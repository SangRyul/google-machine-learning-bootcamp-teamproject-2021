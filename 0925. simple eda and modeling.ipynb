{
 "cells": [
  {
   "cell_type": "code",
   "execution_count": 1,
   "metadata": {
    "id": "go4NQfc52FHn"
   },
   "outputs": [],
   "source": [
    "import pandas as pd\n",
    "import numpy as np"
   ]
  },
  {
   "cell_type": "code",
   "execution_count": 2,
   "metadata": {
    "colab": {
     "base_uri": "https://localhost:8080/",
     "height": 253
    },
    "id": "44vivadG2gi5",
    "outputId": "4c5391e9-d16c-48c1-d40e-010f0f45b593"
   },
   "outputs": [
    {
     "data": {
      "text/html": [
       "<div>\n",
       "<style scoped>\n",
       "    .dataframe tbody tr th:only-of-type {\n",
       "        vertical-align: middle;\n",
       "    }\n",
       "\n",
       "    .dataframe tbody tr th {\n",
       "        vertical-align: top;\n",
       "    }\n",
       "\n",
       "    .dataframe thead th {\n",
       "        text-align: right;\n",
       "    }\n",
       "</style>\n",
       "<table border=\"1\" class=\"dataframe\">\n",
       "  <thead>\n",
       "    <tr style=\"text-align: right;\">\n",
       "      <th></th>\n",
       "      <th>id</th>\n",
       "      <th>f1</th>\n",
       "      <th>f2</th>\n",
       "      <th>f3</th>\n",
       "      <th>f4</th>\n",
       "      <th>f5</th>\n",
       "      <th>f6</th>\n",
       "      <th>f7</th>\n",
       "      <th>f8</th>\n",
       "      <th>f9</th>\n",
       "      <th>...</th>\n",
       "      <th>f110</th>\n",
       "      <th>f111</th>\n",
       "      <th>f112</th>\n",
       "      <th>f113</th>\n",
       "      <th>f114</th>\n",
       "      <th>f115</th>\n",
       "      <th>f116</th>\n",
       "      <th>f117</th>\n",
       "      <th>f118</th>\n",
       "      <th>claim</th>\n",
       "    </tr>\n",
       "  </thead>\n",
       "  <tbody>\n",
       "    <tr>\n",
       "      <th>0</th>\n",
       "      <td>0</td>\n",
       "      <td>0.10859</td>\n",
       "      <td>0.004314</td>\n",
       "      <td>-37.566</td>\n",
       "      <td>0.017364</td>\n",
       "      <td>0.28915</td>\n",
       "      <td>-10.25100</td>\n",
       "      <td>135.12</td>\n",
       "      <td>168900.0</td>\n",
       "      <td>3.992400e+14</td>\n",
       "      <td>...</td>\n",
       "      <td>-12.2280</td>\n",
       "      <td>1.7482</td>\n",
       "      <td>1.90960</td>\n",
       "      <td>-7.11570</td>\n",
       "      <td>4378.80</td>\n",
       "      <td>1.2096</td>\n",
       "      <td>8.613400e+14</td>\n",
       "      <td>140.1</td>\n",
       "      <td>1.01770</td>\n",
       "      <td>1</td>\n",
       "    </tr>\n",
       "    <tr>\n",
       "      <th>1</th>\n",
       "      <td>1</td>\n",
       "      <td>0.10090</td>\n",
       "      <td>0.299610</td>\n",
       "      <td>11822.000</td>\n",
       "      <td>0.276500</td>\n",
       "      <td>0.45970</td>\n",
       "      <td>-0.83733</td>\n",
       "      <td>1721.90</td>\n",
       "      <td>119810.0</td>\n",
       "      <td>3.874100e+15</td>\n",
       "      <td>...</td>\n",
       "      <td>-56.7580</td>\n",
       "      <td>4.1684</td>\n",
       "      <td>0.34808</td>\n",
       "      <td>4.14200</td>\n",
       "      <td>913.23</td>\n",
       "      <td>1.2464</td>\n",
       "      <td>7.575100e+15</td>\n",
       "      <td>1861.0</td>\n",
       "      <td>0.28359</td>\n",
       "      <td>0</td>\n",
       "    </tr>\n",
       "    <tr>\n",
       "      <th>2</th>\n",
       "      <td>2</td>\n",
       "      <td>0.17803</td>\n",
       "      <td>-0.006980</td>\n",
       "      <td>907.270</td>\n",
       "      <td>0.272140</td>\n",
       "      <td>0.45948</td>\n",
       "      <td>0.17327</td>\n",
       "      <td>2298.00</td>\n",
       "      <td>360650.0</td>\n",
       "      <td>1.224500e+13</td>\n",
       "      <td>...</td>\n",
       "      <td>-5.7688</td>\n",
       "      <td>1.2042</td>\n",
       "      <td>0.26290</td>\n",
       "      <td>8.13120</td>\n",
       "      <td>45119.00</td>\n",
       "      <td>1.1764</td>\n",
       "      <td>3.218100e+14</td>\n",
       "      <td>3838.2</td>\n",
       "      <td>0.40690</td>\n",
       "      <td>1</td>\n",
       "    </tr>\n",
       "    <tr>\n",
       "      <th>3</th>\n",
       "      <td>3</td>\n",
       "      <td>0.15236</td>\n",
       "      <td>0.007259</td>\n",
       "      <td>780.100</td>\n",
       "      <td>0.025179</td>\n",
       "      <td>0.51947</td>\n",
       "      <td>7.49140</td>\n",
       "      <td>112.51</td>\n",
       "      <td>259490.0</td>\n",
       "      <td>7.781400e+13</td>\n",
       "      <td>...</td>\n",
       "      <td>-34.8580</td>\n",
       "      <td>2.0694</td>\n",
       "      <td>0.79631</td>\n",
       "      <td>-16.33600</td>\n",
       "      <td>4952.40</td>\n",
       "      <td>1.1784</td>\n",
       "      <td>4.533000e+12</td>\n",
       "      <td>4889.1</td>\n",
       "      <td>0.51486</td>\n",
       "      <td>1</td>\n",
       "    </tr>\n",
       "    <tr>\n",
       "      <th>4</th>\n",
       "      <td>4</td>\n",
       "      <td>0.11623</td>\n",
       "      <td>0.502900</td>\n",
       "      <td>-109.150</td>\n",
       "      <td>0.297910</td>\n",
       "      <td>0.34490</td>\n",
       "      <td>-0.40932</td>\n",
       "      <td>2538.90</td>\n",
       "      <td>65332.0</td>\n",
       "      <td>1.907200e+15</td>\n",
       "      <td>...</td>\n",
       "      <td>-13.6410</td>\n",
       "      <td>1.5298</td>\n",
       "      <td>1.14640</td>\n",
       "      <td>-0.43124</td>\n",
       "      <td>3856.50</td>\n",
       "      <td>1.4830</td>\n",
       "      <td>-8.991300e+12</td>\n",
       "      <td>NaN</td>\n",
       "      <td>0.23049</td>\n",
       "      <td>1</td>\n",
       "    </tr>\n",
       "  </tbody>\n",
       "</table>\n",
       "<p>5 rows × 120 columns</p>\n",
       "</div>"
      ],
      "text/plain": [
       "   id       f1        f2         f3        f4       f5        f6       f7  \\\n",
       "0   0  0.10859  0.004314    -37.566  0.017364  0.28915 -10.25100   135.12   \n",
       "1   1  0.10090  0.299610  11822.000  0.276500  0.45970  -0.83733  1721.90   \n",
       "2   2  0.17803 -0.006980    907.270  0.272140  0.45948   0.17327  2298.00   \n",
       "3   3  0.15236  0.007259    780.100  0.025179  0.51947   7.49140   112.51   \n",
       "4   4  0.11623  0.502900   -109.150  0.297910  0.34490  -0.40932  2538.90   \n",
       "\n",
       "         f8            f9  ...     f110    f111     f112      f113      f114  \\\n",
       "0  168900.0  3.992400e+14  ... -12.2280  1.7482  1.90960  -7.11570   4378.80   \n",
       "1  119810.0  3.874100e+15  ... -56.7580  4.1684  0.34808   4.14200    913.23   \n",
       "2  360650.0  1.224500e+13  ...  -5.7688  1.2042  0.26290   8.13120  45119.00   \n",
       "3  259490.0  7.781400e+13  ... -34.8580  2.0694  0.79631 -16.33600   4952.40   \n",
       "4   65332.0  1.907200e+15  ... -13.6410  1.5298  1.14640  -0.43124   3856.50   \n",
       "\n",
       "     f115          f116    f117     f118  claim  \n",
       "0  1.2096  8.613400e+14   140.1  1.01770      1  \n",
       "1  1.2464  7.575100e+15  1861.0  0.28359      0  \n",
       "2  1.1764  3.218100e+14  3838.2  0.40690      1  \n",
       "3  1.1784  4.533000e+12  4889.1  0.51486      1  \n",
       "4  1.4830 -8.991300e+12     NaN  0.23049      1  \n",
       "\n",
       "[5 rows x 120 columns]"
      ]
     },
     "execution_count": 2,
     "metadata": {},
     "output_type": "execute_result"
    }
   ],
   "source": [
    "train = pd.read_csv('train.csv')\n",
    "train.head()"
   ]
  },
  {
   "cell_type": "code",
   "execution_count": 3,
   "metadata": {
    "colab": {
     "base_uri": "https://localhost:8080/",
     "height": 253
    },
    "id": "2aTwBIKP-tsg",
    "outputId": "9005262c-cc2b-46b4-fe02-e5c851c49263"
   },
   "outputs": [
    {
     "data": {
      "text/html": [
       "<div>\n",
       "<style scoped>\n",
       "    .dataframe tbody tr th:only-of-type {\n",
       "        vertical-align: middle;\n",
       "    }\n",
       "\n",
       "    .dataframe tbody tr th {\n",
       "        vertical-align: top;\n",
       "    }\n",
       "\n",
       "    .dataframe thead th {\n",
       "        text-align: right;\n",
       "    }\n",
       "</style>\n",
       "<table border=\"1\" class=\"dataframe\">\n",
       "  <thead>\n",
       "    <tr style=\"text-align: right;\">\n",
       "      <th></th>\n",
       "      <th>id</th>\n",
       "      <th>f1</th>\n",
       "      <th>f2</th>\n",
       "      <th>f3</th>\n",
       "      <th>f4</th>\n",
       "      <th>f5</th>\n",
       "      <th>f6</th>\n",
       "      <th>f7</th>\n",
       "      <th>f8</th>\n",
       "      <th>f9</th>\n",
       "      <th>...</th>\n",
       "      <th>f109</th>\n",
       "      <th>f110</th>\n",
       "      <th>f111</th>\n",
       "      <th>f112</th>\n",
       "      <th>f113</th>\n",
       "      <th>f114</th>\n",
       "      <th>f115</th>\n",
       "      <th>f116</th>\n",
       "      <th>f117</th>\n",
       "      <th>f118</th>\n",
       "    </tr>\n",
       "  </thead>\n",
       "  <tbody>\n",
       "    <tr>\n",
       "      <th>0</th>\n",
       "      <td>957919</td>\n",
       "      <td>0.165850</td>\n",
       "      <td>0.487050</td>\n",
       "      <td>1295.00</td>\n",
       "      <td>0.02310</td>\n",
       "      <td>0.31900</td>\n",
       "      <td>0.90188</td>\n",
       "      <td>573.29</td>\n",
       "      <td>3743.7</td>\n",
       "      <td>2.705700e+12</td>\n",
       "      <td>...</td>\n",
       "      <td>0.16253</td>\n",
       "      <td>-22.1890</td>\n",
       "      <td>2.0655</td>\n",
       "      <td>0.430880</td>\n",
       "      <td>-10.7410</td>\n",
       "      <td>81606.0</td>\n",
       "      <td>1.1940</td>\n",
       "      <td>1.980400e+14</td>\n",
       "      <td>2017.1</td>\n",
       "      <td>0.46357</td>\n",
       "    </tr>\n",
       "    <tr>\n",
       "      <th>1</th>\n",
       "      <td>957920</td>\n",
       "      <td>0.129650</td>\n",
       "      <td>0.373480</td>\n",
       "      <td>1763.00</td>\n",
       "      <td>0.72884</td>\n",
       "      <td>0.33247</td>\n",
       "      <td>-1.26310</td>\n",
       "      <td>875.55</td>\n",
       "      <td>554370.0</td>\n",
       "      <td>5.955700e+14</td>\n",
       "      <td>...</td>\n",
       "      <td>0.81528</td>\n",
       "      <td>-1.6342</td>\n",
       "      <td>1.5736</td>\n",
       "      <td>-1.071200</td>\n",
       "      <td>11.8320</td>\n",
       "      <td>90114.0</td>\n",
       "      <td>1.1507</td>\n",
       "      <td>4.388000e+16</td>\n",
       "      <td>6638.9</td>\n",
       "      <td>0.28125</td>\n",
       "    </tr>\n",
       "    <tr>\n",
       "      <th>2</th>\n",
       "      <td>957921</td>\n",
       "      <td>0.120190</td>\n",
       "      <td>0.445210</td>\n",
       "      <td>736.26</td>\n",
       "      <td>0.04615</td>\n",
       "      <td>0.29605</td>\n",
       "      <td>0.31665</td>\n",
       "      <td>2659.50</td>\n",
       "      <td>317140.0</td>\n",
       "      <td>3.977800e+14</td>\n",
       "      <td>...</td>\n",
       "      <td>0.81831</td>\n",
       "      <td>-32.7800</td>\n",
       "      <td>2.1364</td>\n",
       "      <td>-1.931200</td>\n",
       "      <td>-3.2804</td>\n",
       "      <td>37739.0</td>\n",
       "      <td>1.1548</td>\n",
       "      <td>1.718100e+14</td>\n",
       "      <td>5844.0</td>\n",
       "      <td>0.13797</td>\n",
       "    </tr>\n",
       "    <tr>\n",
       "      <th>3</th>\n",
       "      <td>957922</td>\n",
       "      <td>0.054008</td>\n",
       "      <td>0.395960</td>\n",
       "      <td>996.14</td>\n",
       "      <td>0.85934</td>\n",
       "      <td>0.36678</td>\n",
       "      <td>-0.17060</td>\n",
       "      <td>386.56</td>\n",
       "      <td>325680.0</td>\n",
       "      <td>-3.432200e+13</td>\n",
       "      <td>...</td>\n",
       "      <td>0.86559</td>\n",
       "      <td>-2.4162</td>\n",
       "      <td>1.5199</td>\n",
       "      <td>-0.011633</td>\n",
       "      <td>1.3840</td>\n",
       "      <td>26849.0</td>\n",
       "      <td>1.1490</td>\n",
       "      <td>2.138800e+17</td>\n",
       "      <td>6173.3</td>\n",
       "      <td>0.32910</td>\n",
       "    </tr>\n",
       "    <tr>\n",
       "      <th>4</th>\n",
       "      <td>957923</td>\n",
       "      <td>0.079947</td>\n",
       "      <td>-0.006919</td>\n",
       "      <td>10574.00</td>\n",
       "      <td>0.34845</td>\n",
       "      <td>0.45008</td>\n",
       "      <td>-1.84200</td>\n",
       "      <td>3027.00</td>\n",
       "      <td>428150.0</td>\n",
       "      <td>9.291500e+11</td>\n",
       "      <td>...</td>\n",
       "      <td>0.25190</td>\n",
       "      <td>-18.6300</td>\n",
       "      <td>3.7387</td>\n",
       "      <td>0.757080</td>\n",
       "      <td>-4.9405</td>\n",
       "      <td>50336.0</td>\n",
       "      <td>1.2488</td>\n",
       "      <td>2.151300e+17</td>\n",
       "      <td>2250.1</td>\n",
       "      <td>0.33796</td>\n",
       "    </tr>\n",
       "  </tbody>\n",
       "</table>\n",
       "<p>5 rows × 119 columns</p>\n",
       "</div>"
      ],
      "text/plain": [
       "       id        f1        f2        f3       f4       f5       f6       f7  \\\n",
       "0  957919  0.165850  0.487050   1295.00  0.02310  0.31900  0.90188   573.29   \n",
       "1  957920  0.129650  0.373480   1763.00  0.72884  0.33247 -1.26310   875.55   \n",
       "2  957921  0.120190  0.445210    736.26  0.04615  0.29605  0.31665  2659.50   \n",
       "3  957922  0.054008  0.395960    996.14  0.85934  0.36678 -0.17060   386.56   \n",
       "4  957923  0.079947 -0.006919  10574.00  0.34845  0.45008 -1.84200  3027.00   \n",
       "\n",
       "         f8            f9  ...     f109     f110    f111      f112     f113  \\\n",
       "0    3743.7  2.705700e+12  ...  0.16253 -22.1890  2.0655  0.430880 -10.7410   \n",
       "1  554370.0  5.955700e+14  ...  0.81528  -1.6342  1.5736 -1.071200  11.8320   \n",
       "2  317140.0  3.977800e+14  ...  0.81831 -32.7800  2.1364 -1.931200  -3.2804   \n",
       "3  325680.0 -3.432200e+13  ...  0.86559  -2.4162  1.5199 -0.011633   1.3840   \n",
       "4  428150.0  9.291500e+11  ...  0.25190 -18.6300  3.7387  0.757080  -4.9405   \n",
       "\n",
       "      f114    f115          f116    f117     f118  \n",
       "0  81606.0  1.1940  1.980400e+14  2017.1  0.46357  \n",
       "1  90114.0  1.1507  4.388000e+16  6638.9  0.28125  \n",
       "2  37739.0  1.1548  1.718100e+14  5844.0  0.13797  \n",
       "3  26849.0  1.1490  2.138800e+17  6173.3  0.32910  \n",
       "4  50336.0  1.2488  2.151300e+17  2250.1  0.33796  \n",
       "\n",
       "[5 rows x 119 columns]"
      ]
     },
     "execution_count": 3,
     "metadata": {},
     "output_type": "execute_result"
    }
   ],
   "source": [
    "test = pd.read_csv('test.csv')\n",
    "test.head()"
   ]
  },
  {
   "cell_type": "code",
   "execution_count": 4,
   "metadata": {
    "colab": {
     "base_uri": "https://localhost:8080/"
    },
    "id": "JwLgT1LA24Y6",
    "outputId": "03cf8929-be57-40d6-da62-c805479e43a6"
   },
   "outputs": [
    {
     "data": {
      "text/plain": [
       "0.5"
      ]
     },
     "execution_count": 4,
     "metadata": {},
     "output_type": "execute_result"
    }
   ],
   "source": [
    "tmp = [0.5 for _ in range(len(train))]\n",
    "\n",
    "from sklearn.metrics import roc_auc_score\n",
    "\n",
    "roc_auc_score(train['claim'].values, tmp)"
   ]
  },
  {
   "cell_type": "code",
   "execution_count": 33,
   "metadata": {
    "id": "KT8Za-Hy3I7p"
   },
   "outputs": [],
   "source": [
    "df = train.copy()"
   ]
  },
  {
   "cell_type": "code",
   "execution_count": 34,
   "metadata": {
    "id": "8GR_xh8B3JcI"
   },
   "outputs": [],
   "source": [
    "df.drop('id', axis=1, inplace=True)"
   ]
  },
  {
   "cell_type": "code",
   "execution_count": 35,
   "metadata": {
    "id": "27dmdYww-nQ0"
   },
   "outputs": [],
   "source": [
    "df_test = test.copy()\n",
    "df_test.drop('id', axis=1, inplace=True)"
   ]
  },
  {
   "cell_type": "markdown",
   "metadata": {
    "id": "VYiebtU73Kmw"
   },
   "source": [
    "# EDA\n",
    "### 결측값 비율 보기"
   ]
  },
  {
   "cell_type": "code",
   "execution_count": 36,
   "metadata": {
    "colab": {
     "base_uri": "https://localhost:8080/",
     "height": 419
    },
    "id": "mSNt-ohe3L36",
    "outputId": "349a4f12-e5dc-455d-e81a-0f7574293d83"
   },
   "outputs": [
    {
     "data": {
      "text/html": [
       "<div>\n",
       "<style scoped>\n",
       "    .dataframe tbody tr th:only-of-type {\n",
       "        vertical-align: middle;\n",
       "    }\n",
       "\n",
       "    .dataframe tbody tr th {\n",
       "        vertical-align: top;\n",
       "    }\n",
       "\n",
       "    .dataframe thead th {\n",
       "        text-align: right;\n",
       "    }\n",
       "</style>\n",
       "<table border=\"1\" class=\"dataframe\">\n",
       "  <thead>\n",
       "    <tr style=\"text-align: right;\">\n",
       "      <th></th>\n",
       "      <th>nan_ratio</th>\n",
       "    </tr>\n",
       "  </thead>\n",
       "  <tbody>\n",
       "    <tr>\n",
       "      <th>f1</th>\n",
       "      <td>1.591679</td>\n",
       "    </tr>\n",
       "    <tr>\n",
       "      <th>f2</th>\n",
       "      <td>1.585729</td>\n",
       "    </tr>\n",
       "    <tr>\n",
       "      <th>f3</th>\n",
       "      <td>1.617151</td>\n",
       "    </tr>\n",
       "    <tr>\n",
       "      <th>f4</th>\n",
       "      <td>1.624354</td>\n",
       "    </tr>\n",
       "    <tr>\n",
       "      <th>f5</th>\n",
       "      <td>1.608174</td>\n",
       "    </tr>\n",
       "    <tr>\n",
       "      <th>...</th>\n",
       "      <td>...</td>\n",
       "    </tr>\n",
       "    <tr>\n",
       "      <th>f116</th>\n",
       "      <td>1.627382</td>\n",
       "    </tr>\n",
       "    <tr>\n",
       "      <th>f117</th>\n",
       "      <td>1.608382</td>\n",
       "    </tr>\n",
       "    <tr>\n",
       "      <th>f118</th>\n",
       "      <td>1.588026</td>\n",
       "    </tr>\n",
       "    <tr>\n",
       "      <th>claim</th>\n",
       "      <td>0.000000</td>\n",
       "    </tr>\n",
       "    <tr>\n",
       "      <th>num_nulls</th>\n",
       "      <td>0.000000</td>\n",
       "    </tr>\n",
       "  </tbody>\n",
       "</table>\n",
       "<p>120 rows × 1 columns</p>\n",
       "</div>"
      ],
      "text/plain": [
       "           nan_ratio\n",
       "f1          1.591679\n",
       "f2          1.585729\n",
       "f3          1.617151\n",
       "f4          1.624354\n",
       "f5          1.608174\n",
       "...              ...\n",
       "f116        1.627382\n",
       "f117        1.608382\n",
       "f118        1.588026\n",
       "claim       0.000000\n",
       "num_nulls   0.000000\n",
       "\n",
       "[120 rows x 1 columns]"
      ]
     },
     "execution_count": 36,
     "metadata": {},
     "output_type": "execute_result"
    }
   ],
   "source": [
    "nan_ratio = pd.DataFrame(df.isnull().sum() / len(df)*100, columns=['nan_ratio'])\n",
    "nan_ratio"
   ]
  },
  {
   "cell_type": "code",
   "execution_count": 37,
   "metadata": {
    "colab": {
     "base_uri": "https://localhost:8080/"
    },
    "id": "yF9dr2k-3PMi",
    "outputId": "0aad8d89-3656-4a5c-f468-024afae0f652"
   },
   "outputs": [
    {
     "name": "stdout",
     "output_type": "stream",
     "text": [
      "1.6366728293310813\n",
      "0.0\n",
      "1.5839735231614922\n"
     ]
    }
   ],
   "source": [
    "print(max(nan_ratio['nan_ratio']))\n",
    "print(min(nan_ratio['nan_ratio']))\n",
    "print(np.mean(nan_ratio['nan_ratio']))\n",
    "\n",
    "# 최댁 1.6%, 평균 약 1.5%의 결측값."
   ]
  },
  {
   "cell_type": "code",
   "execution_count": 38,
   "metadata": {
    "colab": {
     "base_uri": "https://localhost:8080/"
    },
    "id": "wrs5S6bs-5ja",
    "outputId": "bbade191-9bb3-4a8d-e236-e44fafeef9f3"
   },
   "outputs": [
    {
     "name": "stdout",
     "output_type": "stream",
     "text": [
      "1.649732306058678\n",
      "1.567053178080304\n",
      "1.6077951112840039\n"
     ]
    }
   ],
   "source": [
    "#test값\n",
    "nan_ratio = pd.DataFrame(df_test.isnull().sum() / len(df_test)*100, columns=['nan_ratio'])\n",
    "print(max(nan_ratio['nan_ratio']))\n",
    "print(min(nan_ratio['nan_ratio']))\n",
    "print(np.mean(nan_ratio['nan_ratio']))\n",
    "\n",
    "# 최댁 1.6%, 평균 약 1.5%의 결측값."
   ]
  },
  {
   "cell_type": "markdown",
   "metadata": {
    "id": "9r_Fq0Tc3Tq8"
   },
   "source": [
    "### 라벨 비율 보기"
   ]
  },
  {
   "cell_type": "code",
   "execution_count": 39,
   "metadata": {
    "colab": {
     "base_uri": "https://localhost:8080/",
     "height": 111
    },
    "id": "TbxFK4h53QYz",
    "outputId": "274b8bee-8ebd-4150-df68-c185b920c2e2"
   },
   "outputs": [
    {
     "data": {
      "text/html": [
       "<div>\n",
       "<style scoped>\n",
       "    .dataframe tbody tr th:only-of-type {\n",
       "        vertical-align: middle;\n",
       "    }\n",
       "\n",
       "    .dataframe tbody tr th {\n",
       "        vertical-align: top;\n",
       "    }\n",
       "\n",
       "    .dataframe thead th {\n",
       "        text-align: right;\n",
       "    }\n",
       "</style>\n",
       "<table border=\"1\" class=\"dataframe\">\n",
       "  <thead>\n",
       "    <tr style=\"text-align: right;\">\n",
       "      <th></th>\n",
       "      <th>claim</th>\n",
       "    </tr>\n",
       "  </thead>\n",
       "  <tbody>\n",
       "    <tr>\n",
       "      <th>0</th>\n",
       "      <td>0.501508</td>\n",
       "    </tr>\n",
       "    <tr>\n",
       "      <th>1</th>\n",
       "      <td>0.498492</td>\n",
       "    </tr>\n",
       "  </tbody>\n",
       "</table>\n",
       "</div>"
      ],
      "text/plain": [
       "      claim\n",
       "0  0.501508\n",
       "1  0.498492"
      ]
     },
     "execution_count": 39,
     "metadata": {},
     "output_type": "execute_result"
    }
   ],
   "source": [
    "y_cnt = pd.DataFrame(df['claim'].value_counts())\n",
    "y_cnt / len(train)\n",
    "\n",
    "# claim한 것과 하지 않은 것이 매우 비슷한 비율."
   ]
  },
  {
   "cell_type": "markdown",
   "metadata": {
    "id": "uFmN316__MYy"
   },
   "source": [
    "# 분포도 보기"
   ]
  },
  {
   "cell_type": "code",
   "execution_count": 40,
   "metadata": {
    "colab": {
     "base_uri": "https://localhost:8080/",
     "height": 282
    },
    "id": "mxpI4wQ4_MEP",
    "outputId": "ed5b118c-2955-4dfd-c636-96d1314df8df"
   },
   "outputs": [
    {
     "data": {
      "text/plain": [
       "<matplotlib.lines.Line2D at 0x7ff9256ac100>"
      ]
     },
     "execution_count": 40,
     "metadata": {},
     "output_type": "execute_result"
    },
    {
     "data": {
      "image/png": "[encoded data removed]",
      "text/plain": [
       "<Figure size 432x288 with 1 Axes>"
      ]
     },
     "metadata": {
      "needs_background": "light"
     },
     "output_type": "display_data"
    }
   ],
   "source": [
    "import matplotlib.pyplot as plt \n",
    "\n",
    "x = df['f3']\n",
    "result = plt.hist(x, bins=20, color='c', edgecolor='k', alpha=0.65)\n",
    "plt.axvline(x.mean(), color='k', linestyle='dashed', linewidth=1)"
   ]
  },
  {
   "cell_type": "markdown",
   "metadata": {
    "id": "ZIEomPAt3XTI"
   },
   "source": [
    "# 결측값 채우기"
   ]
  },
  {
   "cell_type": "code",
   "execution_count": 41,
   "metadata": {
    "id": "_tVSmmGQ3V9k"
   },
   "outputs": [],
   "source": [
    "df = df.fillna(df.mean())\n",
    "df_test = df_test.fillna(df_test.mean())"
   ]
  },
  {
   "cell_type": "code",
   "execution_count": null,
   "metadata": {
    "id": "Gmot1p713ZuP"
   },
   "outputs": [],
   "source": []
  },
  {
   "cell_type": "code",
   "execution_count": null,
   "metadata": {
    "id": "FH-N7Wo03aF1"
   },
   "outputs": [],
   "source": []
  },
  {
   "cell_type": "markdown",
   "metadata": {
    "id": "OP8Eofo83a2R"
   },
   "source": [
    "# train test split"
   ]
  },
  {
   "cell_type": "code",
   "execution_count": 42,
   "metadata": {
    "id": "p27F9PO13Zcx"
   },
   "outputs": [],
   "source": [
    "y = df.pop('claim')"
   ]
  },
  {
   "cell_type": "code",
   "execution_count": 43,
   "metadata": {
    "id": "CnUNHCB23e8S"
   },
   "outputs": [],
   "source": [
    "from sklearn.model_selection import train_test_split\n",
    "\n",
    "X_train, X_test, y_train, y_test = train_test_split(df, y,\n",
    "                                                    test_size=0.3, random_state=42)"
   ]
  },
  {
   "cell_type": "code",
   "execution_count": 44,
   "metadata": {
    "colab": {
     "base_uri": "https://localhost:8080/"
    },
    "id": "UiDIjM5K3fK4",
    "outputId": "ac4b4be9-f212-43a4-b458-30e24a7ff7b2"
   },
   "outputs": [
    {
     "name": "stdout",
     "output_type": "stream",
     "text": [
      "(670543, 119)\n",
      "(670543,)\n",
      "(287376, 119)\n",
      "(287376,)\n"
     ]
    }
   ],
   "source": [
    "print(X_train.shape)\n",
    "print(y_train.shape)\n",
    "\n",
    "print(X_test.shape)\n",
    "print(y_test.shape)"
   ]
  },
  {
   "cell_type": "code",
   "execution_count": 45,
   "metadata": {
    "id": "i7nkVUB_3gVL"
   },
   "outputs": [],
   "source": [
    "from sklearn.preprocessing import StandardScaler\n",
    "#from sklearn.preprocessing import MinMaxScaler\n",
    "\n",
    "scaler = StandardScaler()\n",
    "#scaler = MinMaxScaler()\n",
    "X_train = scaler.fit_transform(X_train) \n",
    "X_test = scaler.transform(X_test) "
   ]
  },
  {
   "cell_type": "code",
   "execution_count": null,
   "metadata": {
    "id": "TffJpxIL3hpb"
   },
   "outputs": [],
   "source": []
  },
  {
   "cell_type": "markdown",
   "metadata": {
    "id": "dVIU5x_I3j4l"
   },
   "source": [
    "# PCA"
   ]
  },
  {
   "cell_type": "code",
   "execution_count": 46,
   "metadata": {
    "id": "qjT8_Y_i3kRt"
   },
   "outputs": [],
   "source": [
    "from sklearn.decomposition import PCA\n",
    "\n",
    "pca = PCA(n_components=0.9)\n",
    "scaled_x_train = pca.fit_transform(X_train)\n",
    "scaled_x_test = pca.transform(X_test)"
   ]
  },
  {
   "cell_type": "code",
   "execution_count": 47,
   "metadata": {
    "colab": {
     "base_uri": "https://localhost:8080/"
    },
    "id": "fBBLT6BJB-KF",
    "outputId": "72f5f152-fb13-4c68-eb95-05eb7372ecf0"
   },
   "outputs": [
    {
     "data": {
      "text/plain": [
       "(287376, 107)"
      ]
     },
     "execution_count": 47,
     "metadata": {},
     "output_type": "execute_result"
    }
   ],
   "source": [
    "scaled_x_test.shape"
   ]
  },
  {
   "cell_type": "code",
   "execution_count": 48,
   "metadata": {
    "colab": {
     "base_uri": "https://localhost:8080/",
     "height": 297
    },
    "id": "K0SiYWjA3l3g",
    "outputId": "0963fac5-20ec-4b33-e8e2-1bc2a0893429"
   },
   "outputs": [
    {
     "data": {
      "image/png": "[encoded data removed]",
      "text/plain": [
       "<Figure size 432x288 with 1 Axes>"
      ]
     },
     "metadata": {
      "needs_background": "light"
     },
     "output_type": "display_data"
    }
   ],
   "source": [
    "import matplotlib.pyplot as plt \n",
    "\n",
    "exp_var_pca = pca.explained_variance_ratio_\n",
    "cum_sum_eigenvalues = np.cumsum(exp_var_pca)\n",
    "\n",
    "plt.bar(range(0,len(exp_var_pca)), exp_var_pca, alpha=0.5, align='center', label='Individual explained variance')\n",
    "plt.step(range(0,len(cum_sum_eigenvalues)), cum_sum_eigenvalues, where='mid',label='Cumulative explained variance')\n",
    "plt.ylabel('Explained variance ratio')\n",
    "plt.xlabel('Principal component index')\n",
    "plt.legend(loc='best')\n",
    "plt.tight_layout()\n",
    "plt.show()"
   ]
  },
  {
   "cell_type": "markdown",
   "metadata": {
    "id": "hXcTuDNpDx5N"
   },
   "source": [
    "# 구간별로 나누기"
   ]
  },
  {
   "cell_type": "code",
   "execution_count": 49,
   "metadata": {
    "colab": {
     "base_uri": "https://localhost:8080/"
    },
    "id": "222hjM7PDp8M",
    "outputId": "7e68dc13-b30f-4241-8fad-9b54aeacb1c8"
   },
   "outputs": [
    {
     "data": {
      "text/plain": [
       "array([[-0.10512127,  0.93550222, -0.5232783 , ..., -0.05106301,\n",
       "        -0.13933011,  1.03617043],\n",
       "       [ 0.18939093, -0.21108907, -0.60642882, ..., -0.64613729,\n",
       "        -1.01857943,  2.02331578],\n",
       "       [-0.15183365,  0.96883456, -0.42226393, ...,  0.92818245,\n",
       "        -0.09887166, -0.93812028],\n",
       "       ...,\n",
       "       [-1.69133132,  1.06965802, -0.5091044 , ..., -0.37282831,\n",
       "        -0.11958224,  0.54259775],\n",
       "       [-0.22528835, -2.32567708, -0.57538699, ...,  1.49698562,\n",
       "        -1.05081783, -0.93812028],\n",
       "       [-0.21759155,  0.72710621, -0.08217199, ...,  0.40569689,\n",
       "         0.1307714 , -0.4445476 ]])"
      ]
     },
     "execution_count": 49,
     "metadata": {},
     "output_type": "execute_result"
    }
   ],
   "source": [
    "X_train"
   ]
  },
  {
   "cell_type": "code",
   "execution_count": 51,
   "metadata": {
    "id": "kC5nEdxZC-BD"
   },
   "outputs": [],
   "source": [
    "from sklearn.preprocessing import KBinsDiscretizer\n",
    "\n",
    "kb = KBinsDiscretizer(n_bins=64, encode='ordinal',strategy='uniform')\n",
    "\n",
    "X_train = kb.fit_transform(X_train)\n",
    "X_test = kb.transform(X_test)"
   ]
  },
  {
   "cell_type": "code",
   "execution_count": 52,
   "metadata": {
    "colab": {
     "base_uri": "https://localhost:8080/"
    },
    "id": "COVB9XZ93mDJ",
    "outputId": "41c3cf27-ba03-47e1-93d8-57dc7512ad90"
   },
   "outputs": [
    {
     "data": {
      "text/plain": [
       "array([[26., 59., 13., ..., 19., 14., 18.],\n",
       "       [28., 39., 12., ..., 11.,  6., 27.],\n",
       "       [26., 60., 14., ..., 34., 14.,  0.],\n",
       "       ...,\n",
       "       [18., 61., 13., ..., 15., 14., 13.],\n",
       "       [26.,  3., 12., ..., 42.,  6.,  0.],\n",
       "       [26., 56., 16., ..., 26., 16.,  4.]])"
      ]
     },
     "execution_count": 52,
     "metadata": {},
     "output_type": "execute_result"
    }
   ],
   "source": [
    "X_train"
   ]
  },
  {
   "cell_type": "markdown",
   "metadata": {
    "id": "y5S71XiK3oQe"
   },
   "source": [
    "# 모델링"
   ]
  },
  {
   "cell_type": "code",
   "execution_count": 53,
   "metadata": {
    "id": "JDNlTd0y3pEf"
   },
   "outputs": [],
   "source": [
    "from sklearn.metrics import roc_auc_score\n",
    "\n",
    "def model_compare(model, x_train, x_test):\n",
    "    model.fit(x_train, y_train)\n",
    "\n",
    "    pred_train = model.predict(x_train)\n",
    "    pred_train_proba = model.predict_proba(x_train)\n",
    "    pred_test_proba = model.predict_proba(x_test)\n",
    "\n",
    "\n",
    "    # train class predict\n",
    "    print('train class predict:', round(roc_auc_score(y_train, pred_train), 5))\n",
    "\n",
    "    # train proba predict\n",
    "    pred_train_proba_pd = pd.DataFrame(pred_train_proba,\n",
    "                                    columns=['class'+str(clf.classes_[0]), 'class'+str(clf.classes_[1])])\n",
    "    print('train proba predict:', round(roc_auc_score(y_train, pred_train_proba_pd['class1'].values), 5))\n",
    "\n",
    "    # test proba predict\n",
    "    pred_test_proba_pd = pd.DataFrame(pred_test_proba,\n",
    "                                    columns=['class'+str(clf.classes_[0]), 'class'+str(clf.classes_[1])])\n",
    "\n",
    "    print('test proba predict:', round(roc_auc_score(y_test, pred_test_proba_pd['class1'].values), 5))\n",
    "\n"
   ]
  },
  {
   "cell_type": "code",
   "execution_count": 54,
   "metadata": {
    "colab": {
     "base_uri": "https://localhost:8080/"
    },
    "id": "ytHOBVtH3scH",
    "outputId": "5b9b4ae9-41b2-4e2e-e558-6040043f6cd4"
   },
   "outputs": [
    {
     "name": "stdout",
     "output_type": "stream",
     "text": [
      "train class predict: 0.73982\n",
      "train proba predict: 0.79888\n",
      "test proba predict: 0.62878\n"
     ]
    }
   ],
   "source": [
    "# LogisticRegression\n",
    "from sklearn.linear_model import LogisticRegression\n",
    "\n",
    "clf = LogisticRegression(max_iter=200, random_state=0)\n",
    "model_compare(clf, X_train, X_test)"
   ]
  },
  {
   "cell_type": "code",
   "execution_count": 27,
   "metadata": {
    "colab": {
     "base_uri": "https://localhost:8080/"
    },
    "id": "c-AtgH3c3zkd",
    "outputId": "7850b6db-4ce4-47a7-d1b0-c4405578bad3"
   },
   "outputs": [
    {
     "name": "stdout",
     "output_type": "stream",
     "text": [
      "train class predict: 1.0\n",
      "train proba predict: 1.0\n",
      "test proba predict: 0.51168\n"
     ]
    }
   ],
   "source": [
    "# Decision Tree\n",
    "from sklearn.tree import DecisionTreeClassifier\n",
    "\n",
    "clf = DecisionTreeClassifier(random_state=0)\n",
    "model_compare(clf, X_train, X_test)"
   ]
  },
  {
   "cell_type": "code",
   "execution_count": null,
   "metadata": {
    "id": "TeCgzVUI32kl"
   },
   "outputs": [],
   "source": [
    "# SVM\n",
    "from sklearn.svm import SVC\n",
    "\n",
    "clf = SVC(gamma='auto')\n",
    "model_compare(clf, X_train, X_test)"
   ]
  },
  {
   "cell_type": "code",
   "execution_count": 56,
   "metadata": {
    "id": "KTKpmGoo38ki"
   },
   "outputs": [
    {
     "name": "stdout",
     "output_type": "stream",
     "text": [
      "train class predict: 0.71503\n",
      "train proba predict: 0.78352\n",
      "test proba predict: 0.58998\n"
     ]
    }
   ],
   "source": [
    "# GNB\n",
    "from sklearn.naive_bayes import GaussianNB\n",
    "\n",
    "clf = GaussianNB()\n",
    "model_compare(clf, X_train, X_test)"
   ]
  },
  {
   "cell_type": "code",
   "execution_count": 55,
   "metadata": {
    "id": "Ja59jkz338hJ"
   },
   "outputs": [
    {
     "name": "stdout",
     "output_type": "stream",
     "text": [
      "train class predict: 0.77309\n",
      "train proba predict: 0.77706\n",
      "test proba predict: 0.58109\n"
     ]
    }
   ],
   "source": [
    "# Naive Bayes\n",
    "from sklearn.naive_bayes import BernoulliNB\n",
    "\n",
    "clf = BernoulliNB()\n",
    "model_compare(clf, X_train, X_test)"
   ]
  },
  {
   "cell_type": "markdown",
   "metadata": {},
   "source": [
    "from lightgbm import LGBMClassifier\n",
    "\n",
    "lgbm_model = LGBMClassifier()\n",
    "model_compare(lgbm_model, X_train, X_test)"
   ]
  },
  {
   "cell_type": "markdown",
   "metadata": {
    "colab": {
     "base_uri": "https://localhost:8080/",
     "height": 341
    },
    "id": "ktVT1MiG4z6J",
    "outputId": "032221fe-8a4d-4235-9bb4-0cd7ddede729"
   },
   "source": [
    "import xgboost as xgb\n",
    "\n",
    "xgb_model=xgb.XGBClassifier()\n",
    "\n",
    "model_compare(xgb_model, X_train, X_test)"
   ]
  },
  {
   "cell_type": "code",
   "execution_count": null,
   "metadata": {},
   "outputs": [],
   "source": []
  },
  {
   "cell_type": "code",
   "execution_count": null,
   "metadata": {},
   "outputs": [],
   "source": []
  }
 ],
 "metadata": {
  "colab": {
   "name": "0925.ipynb",
   "provenance": []
  },
  "kernelspec": {
   "display_name": "Python 3 (ipykernel)",
   "language": "python",
   "name": "python3"
  },
  "language_info": {
   "codemirror_mode": {
    "name": "ipython",
    "version": 3
   },
   "file_extension": ".py",
   "mimetype": "text/x-python",
   "name": "python",
   "nbconvert_exporter": "python",
   "pygments_lexer": "ipython3",
   "version": "3.9.4"
  }
 },
 "nbformat": 4,
 "nbformat_minor": 1
}
